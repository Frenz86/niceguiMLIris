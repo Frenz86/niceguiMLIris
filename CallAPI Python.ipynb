{
 "cells": [
  {
   "cell_type": "markdown",
   "metadata": {},
   "source": [
    "## Call API Python"
   ]
  },
  {
   "cell_type": "code",
   "execution_count": 1,
   "metadata": {},
   "outputs": [
    {
     "name": "stdout",
     "output_type": "stream",
     "text": [
      "http://127.0.0.1:8000/predict?feature1=3&feature2=3&feature3=3&feature4=3\n"
     ]
    },
    {
     "data": {
      "text/plain": [
       "'versicolor'"
      ]
     },
     "execution_count": 1,
     "metadata": {},
     "output_type": "execute_result"
    }
   ],
   "source": [
    "##GET scalar\n",
    "import requests\n",
    "\n",
    "payload = {\n",
    "            \"feature1\": 3,\n",
    "            \"feature2\": 3,\n",
    "            \"feature3\": 3,\n",
    "            \"feature4\": 3\n",
    "            }\n",
    "\n",
    "url = \"http://127.0.0.1:8000/predict\"\n",
    "\n",
    "response = requests.get(url, params=payload)\n",
    "print(response.url)\n",
    "response.json()"
   ]
  },
  {
   "cell_type": "code",
   "execution_count": 2,
   "metadata": {},
   "outputs": [
    {
     "data": {
      "text/plain": [
       "'versicolor'"
      ]
     },
     "execution_count": 2,
     "metadata": {},
     "output_type": "execute_result"
    }
   ],
   "source": [
    "##POST scalar\n",
    "import requests\n",
    "\n",
    "url = \"http://127.0.0.1:8000/predict\"\n",
    "\n",
    "payload = {\n",
    "            \"feature1\": 3,\n",
    "            \"feature2\": 3,\n",
    "            \"feature3\": 3,\n",
    "            \"feature4\": 3\n",
    "            }\n",
    "\n",
    "headers = {\"Content-Type\": \"application/json\"}\n",
    "\n",
    "response = requests.post(url, json=payload, headers=headers)\n",
    "response.json()"
   ]
  },
  {
   "cell_type": "code",
   "execution_count": 3,
   "metadata": {},
   "outputs": [
    {
     "name": "stdout",
     "output_type": "stream",
     "text": [
      "Image downloaded successfully: cat.jpg\n"
     ]
    }
   ],
   "source": [
    "import requests\n",
    "\n",
    "url = \"http://localhost:8000/image\"\n",
    "animal = \"cat\"  # Change this to the desired animal\n",
    "\n",
    "response = requests.get(url, params={\"animal\": animal})\n",
    "if response.status_code == 200:\n",
    "    # Save the image to a file\n",
    "    with open(f\"{animal}.jpg\", \"wb\") as f:\n",
    "        f.write(response.content)\n",
    "    print(f\"Image downloaded successfully: {animal}.jpg\")\n",
    "else:\n",
    "    print(f\"Failed to download image. Status code: {response.status_code}, Error: {response.text}\")"
   ]
  },
  {
   "cell_type": "code",
   "execution_count": null,
   "metadata": {},
   "outputs": [],
   "source": []
  }
 ],
 "metadata": {
  "kernelspec": {
   "display_name": "Python 3",
   "language": "python",
   "name": "python3"
  },
  "language_info": {
   "codemirror_mode": {
    "name": "ipython",
    "version": 3
   },
   "file_extension": ".py",
   "mimetype": "text/x-python",
   "name": "python",
   "nbconvert_exporter": "python",
   "pygments_lexer": "ipython3",
   "version": "3.11.8"
  }
 },
 "nbformat": 4,
 "nbformat_minor": 2
}
